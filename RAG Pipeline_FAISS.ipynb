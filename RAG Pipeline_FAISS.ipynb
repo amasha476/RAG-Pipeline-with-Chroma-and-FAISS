{
 "cells": [
  {
   "cell_type": "code",
   "execution_count": 9,
   "id": "fe1567af-76d3-4903-8ac4-d377d238f29a",
   "metadata": {},
   "outputs": [],
   "source": [
    "import os\n",
    "import glob\n",
    "from dotenv import load_dotenv\n",
    "import gradio as gr\n",
    "from langchain.document_loaders import DirectoryLoader, TextLoader\n",
    "from langchain.text_splitter import CharacterTextSplitter\n",
    "from langchain.schema import Document\n",
    "from langchain_openai import OpenAIEmbeddings, ChatOpenAI\n",
    "from langchain.vectorstores import FAISS\n",
    "import numpy as np\n",
    "from sklearn.manifold import TSNE\n",
    "import plotly.graph_objects as go\n",
    "from langchain.memory import ConversationBufferMemory\n",
    "from langchain.chains import ConversationalRetrievalChain"
   ]
  },
  {
   "cell_type": "code",
   "execution_count": 10,
   "id": "63bf1887-8910-4bfa-8024-e98567b10e46",
   "metadata": {},
   "outputs": [],
   "source": [
    "MODEL = \"gpt-4o-mini\"\n",
    "db_name = \"vector_db_FAISS\""
   ]
  },
  {
   "cell_type": "code",
   "execution_count": 11,
   "id": "e2269705-aaf6-41d4-9afc-741d2bd78976",
   "metadata": {},
   "outputs": [
    {
     "name": "stdout",
     "output_type": "stream",
     "text": [
      "OpenAI API Key exists and begins sk-proj-\n"
     ]
    }
   ],
   "source": [
    "load_dotenv(override=True)\n",
    "\n",
    "openai_api_key = os.getenv('OPENAI_API_KEY')\n",
    "if openai_api_key:\n",
    "    print(f\"OpenAI API Key exists and begins {openai_api_key[:8]}\")\n",
    "else:\n",
    "    print(\"OpenAI API Key not set\")"
   ]
  },
  {
   "cell_type": "markdown",
   "id": "76408ec8-0be4-418d-8f33-b16af45ab6cb",
   "metadata": {},
   "source": [
    "### Read in documents using LangChain's loaders"
   ]
  },
  {
   "cell_type": "code",
   "execution_count": 12,
   "id": "6fcf118b-3a0d-421b-a2b2-5bcfc0d65b97",
   "metadata": {},
   "outputs": [],
   "source": [
    "folders = glob.glob(\"HII_Data/*\")\n",
    "text_loader_kwargs = {'encoding': 'utf-8'}\n",
    "\n",
    "documents = []\n",
    "for folder in folders:\n",
    "    doc_type = os.path.basename(folder)\n",
    "    loader = DirectoryLoader(folder, glob=\"**/*.md\", loader_cls=TextLoader, loader_kwargs=text_loader_kwargs)\n",
    "    folder_docs = loader.load()\n",
    "    for doc in folder_docs:\n",
    "        doc.metadata[\"doc_type\"] = doc_type\n",
    "        documents.append(doc)"
   ]
  },
  {
   "cell_type": "code",
   "execution_count": 13,
   "id": "e0616460-e5c9-4a3e-a2a6-93ff3775eee5",
   "metadata": {},
   "outputs": [],
   "source": [
    "text_splitter = CharacterTextSplitter(chunk_size=1000, chunk_overlap=200)\n",
    "chunks = text_splitter.split_documents(documents)"
   ]
  },
  {
   "cell_type": "code",
   "execution_count": 14,
   "id": "ef058c16-4690-4600-ae8c-a4d57403d887",
   "metadata": {},
   "outputs": [
    {
     "data": {
      "text/plain": [
       "8"
      ]
     },
     "execution_count": 14,
     "metadata": {},
     "output_type": "execute_result"
    }
   ],
   "source": [
    "len(chunks)"
   ]
  },
  {
   "cell_type": "code",
   "execution_count": 15,
   "id": "130351ae-cd1a-4110-b226-abedda39841a",
   "metadata": {},
   "outputs": [
    {
     "name": "stdout",
     "output_type": "stream",
     "text": [
      "Document types found: Careers, ProgrammsandCourses, About, Student_Life, Profiles\n"
     ]
    }
   ],
   "source": [
    "doc_types = set(chunk.metadata['doc_type'] for chunk in chunks)\n",
    "print(f\"Document types found: {', '.join(doc_types)}\")"
   ]
  },
  {
   "cell_type": "code",
   "execution_count": 16,
   "id": "5156e047-8176-4dd8-84f2-1c014c8c1d4c",
   "metadata": {},
   "outputs": [],
   "source": [
    "embeddings = OpenAIEmbeddings()"
   ]
  },
  {
   "cell_type": "markdown",
   "id": "9c376a8d-657a-4bcf-88f8-5ae19e9fafa1",
   "metadata": {},
   "source": [
    "### Create Vector DB with FAISS"
   ]
  },
  {
   "cell_type": "code",
   "execution_count": 17,
   "id": "1b021132-b46c-4946-8f3f-094baf1ea1df",
   "metadata": {},
   "outputs": [
    {
     "name": "stdout",
     "output_type": "stream",
     "text": [
      "There are 8 vectors with 1,536 dimensions in the vector store\n"
     ]
    }
   ],
   "source": [
    "vectorstore = FAISS.from_documents(chunks, embedding=embeddings)\n",
    "\n",
    "total_vectors = vectorstore.index.ntotal\n",
    "dimensions = vectorstore.index.d\n",
    "\n",
    "print(f\"There are {total_vectors} vectors with {dimensions:,} dimensions in the vector store\")"
   ]
  },
  {
   "cell_type": "markdown",
   "id": "a938edd0-5a98-40cc-af02-c136f6783a22",
   "metadata": {},
   "source": [
    "### Chat Application (RAG pipeline with LangChain)"
   ]
  },
  {
   "cell_type": "code",
   "execution_count": 18,
   "id": "f30eb4ec-b79e-4f7e-99d7-5cb644779f74",
   "metadata": {},
   "outputs": [
    {
     "name": "stderr",
     "output_type": "stream",
     "text": [
      "C:\\Users\\latjk\\AppData\\Local\\Temp\\ipykernel_13872\\101531323.py:6: LangChainDeprecationWarning: Please see the migration guide at: https://python.langchain.com/docs/versions/migrating_memory/\n",
      "  memory = ConversationBufferMemory(\n"
     ]
    }
   ],
   "source": [
    "## create a new Chat with OpenAI (model)\n",
    "llm = ChatOpenAI(temperature = 0.7, \n",
    "                 model_name = MODEL)\n",
    "\n",
    "## set up the conversation memory for the chat (Memory)\n",
    "memory = ConversationBufferMemory(\n",
    "    memory_key = 'chat_history', \n",
    "    return_messages = True)\n",
    "\n",
    "## the retriever is an abstraction over the VectorStore that will be used during RAG (Retreiver)\n",
    "retriever = vectorstore.as_retriever()\n",
    "conversation_chain = ConversationalRetrievalChain.from_llm(\n",
    "    llm = llm, \n",
    "    retriever = retriever, \n",
    "    memory = memory)"
   ]
  },
  {
   "cell_type": "code",
   "execution_count": 19,
   "id": "4b91341d-965b-4149-8e8d-99cedbda2e63",
   "metadata": {},
   "outputs": [
    {
     "name": "stdout",
     "output_type": "stream",
     "text": [
      "Horizon International Institute (HII) is a globally recognized higher education center established in 1995, dedicated to providing transformative education through innovation, research, and strong industry partnerships. With a mission to deliver high-quality, accessible education and foster research and innovation, HII empowers students with knowledge, creativity, and leadership skills. The institute is accredited by the National Board of Higher Education (NBHE) and has international partnerships with over 35 universities across Europe, Asia, and North America.\n"
     ]
    }
   ],
   "source": [
    "query = \"Can you describe HII in a few sentences\"\n",
    "result = conversation_chain.invoke({\"question\":query})\n",
    "print(result[\"answer\"])"
   ]
  },
  {
   "cell_type": "code",
   "execution_count": 20,
   "id": "a0546c36-9594-4450-8db6-6062cef14a96",
   "metadata": {},
   "outputs": [],
   "source": [
    "def chat(message, history):\n",
    "    result = conversation_chain.invoke({\"question\": message})\n",
    "    return result[\"answer\"]"
   ]
  },
  {
   "cell_type": "code",
   "execution_count": 21,
   "id": "f26f2a0a-d0fb-4d17-9db6-369f25cc8c06",
   "metadata": {},
   "outputs": [
    {
     "name": "stdout",
     "output_type": "stream",
     "text": [
      "* Running on local URL:  http://127.0.0.1:7862\n",
      "* To create a public link, set `share=True` in `launch()`.\n"
     ]
    },
    {
     "data": {
      "text/html": [
       "<div><iframe src=\"http://127.0.0.1:7862/\" width=\"100%\" height=\"500\" allow=\"autoplay; camera; microphone; clipboard-read; clipboard-write;\" frameborder=\"0\" allowfullscreen></iframe></div>"
      ],
      "text/plain": [
       "<IPython.core.display.HTML object>"
      ]
     },
     "metadata": {},
     "output_type": "display_data"
    }
   ],
   "source": [
    "view = gr.ChatInterface(chat, type=\"messages\").launch(inbrowser=True)"
   ]
  },
  {
   "cell_type": "code",
   "execution_count": null,
   "id": "889fbc70-5152-47bf-94a9-c6107111229d",
   "metadata": {},
   "outputs": [],
   "source": []
  }
 ],
 "metadata": {
  "kernelspec": {
   "display_name": "Python 3 (ipykernel)",
   "language": "python",
   "name": "python3"
  },
  "language_info": {
   "codemirror_mode": {
    "name": "ipython",
    "version": 3
   },
   "file_extension": ".py",
   "mimetype": "text/x-python",
   "name": "python",
   "nbconvert_exporter": "python",
   "pygments_lexer": "ipython3",
   "version": "3.10.11"
  }
 },
 "nbformat": 4,
 "nbformat_minor": 5
}
